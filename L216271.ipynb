{
  "nbformat": 4,
  "nbformat_minor": 0,
  "metadata": {
    "colab": {
      "provenance": [],
      "collapsed_sections": []
    },
    "kernelspec": {
      "name": "python3",
      "display_name": "Python 3"
    },
    "language_info": {
      "name": "python"
    }
  },
  "cells": [
    {
      "cell_type": "markdown",
      "source": [
        "# Introduction To Data Science – Assignment 1\n",
        "\n",
        "---\n",
        "\n",
        "### Sections A – B – C – D\n",
        "\n",
        "---\n",
        "\n",
        "***Instructions***\n",
        "\n",
        "Due Date: Sunday 18th September 2022 – 11:59PM\n",
        "\n",
        "Name the file in the format Lyyxxxx and save it as .ipynb (e.g. L201234.ipynb)\n",
        "\n",
        "Submission will be taken on **GitHub and Google Classroom (submit the .ipynb file)** - Instructions to upload onto GitHub are provided in the link https://docs.google.com/document/d/1BR1ULOGeGWJVU6Rr6Qty1FR-quVRZyRvQGII6nEs-wo/edit?usp=sharing\n",
        "\n",
        "After uploading and submitting the .ipynb file onto Google Classroom, also private comment the link to the GitHub repository.\n",
        "\n",
        "All source files needed to complete this assignment can be found on the following Google Drive link https://drive.google.com/drive/folders/1VrkaVcExGWqilSeh50WZe4gUBjmUiJ9b?usp=sharing\n",
        "\n",
        "TA Emails\n",
        "\n",
        "Section A, C - Muhammad Maarij l192347@lhr.nu.edu.pk\n",
        "\n",
        "Section B, D - Hira Ijaz l192377@lhr.nu.edu.pk\n",
        "\n",
        "Happy Coding 😊\n",
        "\n",
        "---"
      ],
      "metadata": {
        "id": "TWWLTwYZorzC"
      }
    },
    {
      "cell_type": "markdown",
      "source": [
        "---\n",
        "## Question 1\n",
        "---"
      ],
      "metadata": {
        "id": "arB_0r9H0jjC"
      }
    },
    {
      "cell_type": "markdown",
      "source": [
        "Define a procedure called \"check_input\" that takes an input as a square list of lists (2D Matrix of N x N) and returns a boolen \"true\" if the input is valid or \"false\" otherwise, according to the following criteria.\n",
        "\n",
        "1. Each coloumn must contain numbers from between 1 and N, with no duplicates.\n",
        "2. Each row must contain numbers from between 1 and N, with no duplicates."
      ],
      "metadata": {
        "id": "qHPTNDy30n99"
      }
    },
    {
      "cell_type": "code",
      "source": [
        "# define procedure here\n",
        "def check_input(arr):\n",
        "  n = len(arr)\n",
        "\n",
        "  for i in range(n):\n",
        "    for j in range(n):\n",
        "\n",
        "      val = arr[i][j]\n",
        "\n",
        "      k = i + 1\n",
        "\n",
        "      for k in range(n):\n",
        "        if (val == arr[i][k]):\n",
        "          return 0\n",
        "      \n",
        "      l = j + 1\n",
        "      for l in range(n):\n",
        "        if (val == [l][i]):\n",
        "          return 0\n",
        "\n",
        "  return 1\n",
        "                   \n",
        "\n"
      ],
      "metadata": {
        "id": "S2_Zic322Lt7"
      },
      "execution_count": 27,
      "outputs": []
    },
    {
      "cell_type": "code",
      "source": [
        "# run this block to test code after defining the procedure\n",
        "\n",
        "test1 = [[1, 2, 3],\n",
        "        [2, 3, 1],\n",
        "        [3, 1, 2]]\n",
        "\n",
        "test2 = [[1, 2, 3, 4],\n",
        "        [2, 3, 1, 3],\n",
        "        [3, 1, 2, 3],\n",
        "        [4, 4, 4, 4]]\n",
        "\n",
        "test3 = [['a', 'b', 'c'],\n",
        "        ['b', 'c', 'a'],\n",
        "        ['c', 'a', 'b']]\n",
        "\n",
        "print(check_input(test1)) # must return true\n",
        "print(check_input(test2)) # must return false\n",
        "print(check_input(test3)) # must return false"
      ],
      "metadata": {
        "id": "wdL9MWgq2ZbP"
      },
      "execution_count": null,
      "outputs": []
    },
    {
      "cell_type": "markdown",
      "source": [
        "---\n",
        "## Question 2\n",
        "---"
      ],
      "metadata": {
        "id": "4RVTlnhWqOUC"
      }
    },
    {
      "cell_type": "code",
      "source": [
        "from google.colab import drive\n",
        "drive.mount('/content/drive')"
      ],
      "metadata": {
        "id": "Qwa7PljIoh_1"
      },
      "execution_count": null,
      "outputs": []
    },
    {
      "cell_type": "markdown",
      "source": [
        "**Part A** - Import the file \"StudentMarkSheet.csv\" as a Pandas DataFrame and print the information for the dataframe"
      ],
      "metadata": {
        "id": "Uyc7JPtNt0pR"
      }
    },
    {
      "cell_type": "code",
      "execution_count": null,
      "metadata": {
        "id": "wYrt7e6Xop2P"
      },
      "outputs": [],
      "source": [
        "\n",
        "import pandas as pd\n",
        "\n",
        "StudentMarks = pd.read_csv(\"StudentMarkSheet.csv\")\n",
        "\n",
        "StudentMarks.info()\n",
        "\n"
      ]
    },
    {
      "cell_type": "markdown",
      "source": [
        "**Part B** - Remove any rows that do not contain all the data. Also print the following information.\n",
        "\n",
        "1. Number of rows before\n",
        "2. Number of rows containing null data\n",
        "3. Number of rows after"
      ],
      "metadata": {
        "id": "jIaMvgcft_i0"
      }
    },
    {
      "cell_type": "code",
      "source": [
        "StudentMarks1 = StudentMarks.copy() #so that the original length of the csv file with null data can be stored\n",
        "\n",
        "NoOfRows = len(StudentMarks1)\n",
        "\n",
        "print(\"Number of rows = \", NoOfRows)\n",
        "\n",
        "StudentMarks = StudentMarks.dropna() #dropping NULL values\n",
        "NonZeroRows = len(StudentMarks) \n",
        "\n",
        "NullRows = NoOfRows - NonZeroRows\n",
        "\n",
        "print(\"Null rows = \", NullRows)\n",
        "\n",
        "print(\"Number of Non zero rows = \", NonZeroRows)\n",
        "\n",
        "StudentMarks = StudentMarks.reset_index() #so that there are no gaps\n",
        "\n"
      ],
      "metadata": {
        "id": "_ov_SWdxuZUm",
        "colab": {
          "base_uri": "https://localhost:8080/"
        },
        "outputId": "6360f871-c1d0-4529-f71b-5754a32ddc82"
      },
      "execution_count": 22,
      "outputs": [
        {
          "output_type": "stream",
          "name": "stdout",
          "text": [
            "Number of rows =  200\n",
            "Null rows =  4\n",
            "Number of Non zero rows =  196\n"
          ]
        }
      ]
    },
    {
      "cell_type": "markdown",
      "source": [
        "**Part C** - Print all the marks along with the subject for the student named \"James Walker\""
      ],
      "metadata": {
        "id": "2kd9zAX6wkXM"
      }
    },
    {
      "cell_type": "code",
      "source": [
        "\n",
        "StudentMarks.loc[StudentMarks['Student name'] == 'James Walker'] #locate james walker in student name\n",
        "\n"
      ],
      "metadata": {
        "id": "N0HWJN-PwuSo",
        "colab": {
          "base_uri": "https://localhost:8080/",
          "height": 206
        },
        "outputId": "b0ff3a02-e002-48a7-d122-243864cb038f"
      },
      "execution_count": 23,
      "outputs": [
        {
          "output_type": "execute_result",
          "data": {
            "text/plain": [
              "     index  Student name    Exam name   Exam date  Marks\n",
              "0        0  James Walker      Biology  05/06/2016   31.0\n",
              "42      42  James Walker    Chemistry  15/06/2016   61.0\n",
              "70      71  James Walker  Mathematics  29/07/2016   23.0\n",
              "147    150  James Walker      Physics  10/06/2016  100.0\n",
              "177    180  James Walker    Sociology  21/06/2016   73.0"
            ],
            "text/html": [
              "\n",
              "  <div id=\"df-3d4d7d89-f83e-476b-bc67-d2dd3f3bab4f\">\n",
              "    <div class=\"colab-df-container\">\n",
              "      <div>\n",
              "<style scoped>\n",
              "    .dataframe tbody tr th:only-of-type {\n",
              "        vertical-align: middle;\n",
              "    }\n",
              "\n",
              "    .dataframe tbody tr th {\n",
              "        vertical-align: top;\n",
              "    }\n",
              "\n",
              "    .dataframe thead th {\n",
              "        text-align: right;\n",
              "    }\n",
              "</style>\n",
              "<table border=\"1\" class=\"dataframe\">\n",
              "  <thead>\n",
              "    <tr style=\"text-align: right;\">\n",
              "      <th></th>\n",
              "      <th>index</th>\n",
              "      <th>Student name</th>\n",
              "      <th>Exam name</th>\n",
              "      <th>Exam date</th>\n",
              "      <th>Marks</th>\n",
              "    </tr>\n",
              "  </thead>\n",
              "  <tbody>\n",
              "    <tr>\n",
              "      <th>0</th>\n",
              "      <td>0</td>\n",
              "      <td>James Walker</td>\n",
              "      <td>Biology</td>\n",
              "      <td>05/06/2016</td>\n",
              "      <td>31.0</td>\n",
              "    </tr>\n",
              "    <tr>\n",
              "      <th>42</th>\n",
              "      <td>42</td>\n",
              "      <td>James Walker</td>\n",
              "      <td>Chemistry</td>\n",
              "      <td>15/06/2016</td>\n",
              "      <td>61.0</td>\n",
              "    </tr>\n",
              "    <tr>\n",
              "      <th>70</th>\n",
              "      <td>71</td>\n",
              "      <td>James Walker</td>\n",
              "      <td>Mathematics</td>\n",
              "      <td>29/07/2016</td>\n",
              "      <td>23.0</td>\n",
              "    </tr>\n",
              "    <tr>\n",
              "      <th>147</th>\n",
              "      <td>150</td>\n",
              "      <td>James Walker</td>\n",
              "      <td>Physics</td>\n",
              "      <td>10/06/2016</td>\n",
              "      <td>100.0</td>\n",
              "    </tr>\n",
              "    <tr>\n",
              "      <th>177</th>\n",
              "      <td>180</td>\n",
              "      <td>James Walker</td>\n",
              "      <td>Sociology</td>\n",
              "      <td>21/06/2016</td>\n",
              "      <td>73.0</td>\n",
              "    </tr>\n",
              "  </tbody>\n",
              "</table>\n",
              "</div>\n",
              "      <button class=\"colab-df-convert\" onclick=\"convertToInteractive('df-3d4d7d89-f83e-476b-bc67-d2dd3f3bab4f')\"\n",
              "              title=\"Convert this dataframe to an interactive table.\"\n",
              "              style=\"display:none;\">\n",
              "        \n",
              "  <svg xmlns=\"http://www.w3.org/2000/svg\" height=\"24px\"viewBox=\"0 0 24 24\"\n",
              "       width=\"24px\">\n",
              "    <path d=\"M0 0h24v24H0V0z\" fill=\"none\"/>\n",
              "    <path d=\"M18.56 5.44l.94 2.06.94-2.06 2.06-.94-2.06-.94-.94-2.06-.94 2.06-2.06.94zm-11 1L8.5 8.5l.94-2.06 2.06-.94-2.06-.94L8.5 2.5l-.94 2.06-2.06.94zm10 10l.94 2.06.94-2.06 2.06-.94-2.06-.94-.94-2.06-.94 2.06-2.06.94z\"/><path d=\"M17.41 7.96l-1.37-1.37c-.4-.4-.92-.59-1.43-.59-.52 0-1.04.2-1.43.59L10.3 9.45l-7.72 7.72c-.78.78-.78 2.05 0 2.83L4 21.41c.39.39.9.59 1.41.59.51 0 1.02-.2 1.41-.59l7.78-7.78 2.81-2.81c.8-.78.8-2.07 0-2.86zM5.41 20L4 18.59l7.72-7.72 1.47 1.35L5.41 20z\"/>\n",
              "  </svg>\n",
              "      </button>\n",
              "      \n",
              "  <style>\n",
              "    .colab-df-container {\n",
              "      display:flex;\n",
              "      flex-wrap:wrap;\n",
              "      gap: 12px;\n",
              "    }\n",
              "\n",
              "    .colab-df-convert {\n",
              "      background-color: #E8F0FE;\n",
              "      border: none;\n",
              "      border-radius: 50%;\n",
              "      cursor: pointer;\n",
              "      display: none;\n",
              "      fill: #1967D2;\n",
              "      height: 32px;\n",
              "      padding: 0 0 0 0;\n",
              "      width: 32px;\n",
              "    }\n",
              "\n",
              "    .colab-df-convert:hover {\n",
              "      background-color: #E2EBFA;\n",
              "      box-shadow: 0px 1px 2px rgba(60, 64, 67, 0.3), 0px 1px 3px 1px rgba(60, 64, 67, 0.15);\n",
              "      fill: #174EA6;\n",
              "    }\n",
              "\n",
              "    [theme=dark] .colab-df-convert {\n",
              "      background-color: #3B4455;\n",
              "      fill: #D2E3FC;\n",
              "    }\n",
              "\n",
              "    [theme=dark] .colab-df-convert:hover {\n",
              "      background-color: #434B5C;\n",
              "      box-shadow: 0px 1px 3px 1px rgba(0, 0, 0, 0.15);\n",
              "      filter: drop-shadow(0px 1px 2px rgba(0, 0, 0, 0.3));\n",
              "      fill: #FFFFFF;\n",
              "    }\n",
              "  </style>\n",
              "\n",
              "      <script>\n",
              "        const buttonEl =\n",
              "          document.querySelector('#df-3d4d7d89-f83e-476b-bc67-d2dd3f3bab4f button.colab-df-convert');\n",
              "        buttonEl.style.display =\n",
              "          google.colab.kernel.accessAllowed ? 'block' : 'none';\n",
              "\n",
              "        async function convertToInteractive(key) {\n",
              "          const element = document.querySelector('#df-3d4d7d89-f83e-476b-bc67-d2dd3f3bab4f');\n",
              "          const dataTable =\n",
              "            await google.colab.kernel.invokeFunction('convertToInteractive',\n",
              "                                                     [key], {});\n",
              "          if (!dataTable) return;\n",
              "\n",
              "          const docLinkHtml = 'Like what you see? Visit the ' +\n",
              "            '<a target=\"_blank\" href=https://colab.research.google.com/notebooks/data_table.ipynb>data table notebook</a>'\n",
              "            + ' to learn more about interactive tables.';\n",
              "          element.innerHTML = '';\n",
              "          dataTable['output_type'] = 'display_data';\n",
              "          await google.colab.output.renderOutput(dataTable, element);\n",
              "          const docLink = document.createElement('div');\n",
              "          docLink.innerHTML = docLinkHtml;\n",
              "          element.appendChild(docLink);\n",
              "        }\n",
              "      </script>\n",
              "    </div>\n",
              "  </div>\n",
              "  "
            ]
          },
          "metadata": {},
          "execution_count": 23
        }
      ]
    },
    {
      "cell_type": "markdown",
      "source": [
        "---\n",
        "## Question 3\n",
        "---"
      ],
      "metadata": {
        "id": "ts8Y1EXmwzhf"
      }
    },
    {
      "cell_type": "markdown",
      "source": [
        "**Part A** - From the DataFrame created in Question 2, calculate the average marks for each subject"
      ],
      "metadata": {
        "id": "PJENm_hpw3GQ"
      }
    },
    {
      "cell_type": "code",
      "source": [
        "BiologyTable = StudentMarks.loc[StudentMarks['Exam name'] == 'Biology'] #seperate table for biology students\n",
        "\n",
        "BiologyMarks = BiologyTable['Marks'] #since we are concerned with only the marks, that column is chosen\n",
        "\n",
        "BiologyTotal = 0\n",
        "index = len(BiologyMarks) #for no of rows\n",
        "count = 0 #as an index\n",
        "TotalValues = 0 #counting values\n",
        "\n",
        "for count in range(index):\n",
        "  TotalValues += 1\n",
        "  BiologyTotal = BiologyTotal + BiologyMarks[count]\n",
        "\n",
        "BiologyMean =  BiologyTotal/TotalValues\n",
        "print(\"The average Biology marks are :\",BiologyMean)\n",
        "\n",
        "\n",
        "\n",
        "ChemistryTable = StudentMarks.loc[StudentMarks['Exam name'] == 'Chemistry']\n",
        "\n",
        "ChemistryMarks = ChemistryTable['Marks']\n",
        "\n",
        "ChemistryTotal = 0\n",
        "index = index + len(ChemistryMarks) #since the index for chemistry starts after biology, add the length so that it can itrate till there \n",
        "count = count + 1 #since the counter starts from 0 add 1 \n",
        "TotalValues = 0\n",
        "\n",
        "for count in range(count,index): #iterate from the end of biology (count ends at last biology) till last of chemistry (index = index + len)\n",
        "   TotalValues += 1\n",
        "   ChemistryTotal = ChemistryTotal + ChemistryMarks[count]\n",
        "\n",
        "ChemistryMean = ChemistryTotal/TotalValues\n",
        "print(\"The average Chemistry marks are :\", ChemistryMean)\n",
        "\n",
        "\n",
        "\n",
        "MathsTable = StudentMarks.loc[StudentMarks['Exam name'] == 'Mathematics']\n",
        "\n",
        "MathsMarks = MathsTable['Marks']\n",
        "\n",
        "MathsTotal = 0\n",
        "index = index + len(MathsMarks)\n",
        "count = count + 1\n",
        "TotalValues = 0\n",
        "\n",
        "for count in range(count,index):\n",
        "   TotalValues += 1\n",
        "   MathsTotal = MathsTotal + MathsMarks[count]\n",
        "\n",
        "MathsMean = MathsTotal/TotalValues\n",
        "print(\"The average Math marks are :\", MathsMean)\n",
        "\n",
        "\n",
        "\n",
        "PhilosophyTable = StudentMarks.loc[StudentMarks['Exam name'] == 'Philosophy']\n",
        "\n",
        "PhilosophyMarks = PhilosophyTable['Marks']\n",
        "\n",
        "PhilosophyTotal = 0\n",
        "index = index + len(PhilosophyMarks)\n",
        "count = count + 1\n",
        "TotalValues = 0\n",
        "\n",
        "for count in range(count,index):\n",
        "   TotalValues += 1\n",
        "   PhilosophyTotal = PhilosophyTotal + PhilosophyMarks[count]\n",
        "\n",
        "PhilosophyMean = PhilosophyTotal/TotalValues\n",
        "print(\"The average Philosophy marks are :\", PhilosophyMean)\n",
        "\n",
        "\n",
        "\n",
        "PhysicsTable = StudentMarks.loc[StudentMarks['Exam name'] == 'Physics']\n",
        "\n",
        "PhysicsMarks = PhysicsTable['Marks']\n",
        "\n",
        "PhysicsTotal = 0\n",
        "index = index + len(PhysicsMarks)\n",
        "count = count + 1\n",
        "TotalValues = 0\n",
        "\n",
        "for count in range(count,index):\n",
        "  TotalValues+= 1\n",
        "  PhysicsTotal = PhysicsTotal + PhysicsMarks[count]\n",
        "\n",
        "PhysicsMean = PhysicsTotal/TotalValues\n",
        "print(\"The average Physics marks are :\", PhysicsMean)\n",
        "\n",
        "\n",
        "\n",
        "SociologyTable = StudentMarks.loc[StudentMarks['Exam name'] == 'Sociology']\n",
        "\n",
        "SociologyMarks = SociologyTable['Marks']\n",
        "\n",
        "SociologyTotal = 0\n",
        "index = index + len(SociologyMarks)\n",
        "count = count + 1\n",
        "TotalValues = 0\n",
        "\n",
        "for count in range(count,index):\n",
        "  TotalValues+= 1\n",
        "  SociologyTotal = SociologyTotal + SociologyMarks[count]\n",
        "\n",
        "SociologyMean = SociologyTotal/TotalValues\n",
        "print(\"The average Sociology marks are :\", SociologyMean)\n"
      ],
      "metadata": {
        "id": "AxhCtST5xS3L",
        "colab": {
          "base_uri": "https://localhost:8080/"
        },
        "outputId": "a60ba705-a044-430b-aa22-31fd7f0e982c"
      },
      "execution_count": 24,
      "outputs": [
        {
          "output_type": "stream",
          "name": "stdout",
          "text": [
            "The average Biology marks are : 47.89473684210526\n",
            "The average Chemistry marks are : 50.57692307692308\n",
            "The average Math marks are : 48.97222222222222\n",
            "The average Philosophy marks are : 47.270270270270274\n",
            "The average Physics marks are : 51.76190476190476\n",
            "The average Sociology marks are : 56.026315789473685\n"
          ]
        }
      ]
    },
    {
      "cell_type": "markdown",
      "source": [
        "**Part B** - Using the averages you just calculated, plot a Bar Graph showing the average marks of each subject"
      ],
      "metadata": {
        "id": "NDlaA7hHxUBc"
      }
    },
    {
      "cell_type": "code",
      "source": [
        "import matplotlib.pyplot as plt\n",
        "\n",
        "import numpy as np\n",
        "\n",
        "x = np.array([\"Biology\",\"Chemistry\",\"Maths\",\"Physics\",\"Sociology\",\"Philosophy\"])\n",
        "\n",
        "y = np.array([BiologyMean,ChemistryMean,MathsMean,PhysicsMean,SociologyMean,PhilosophyMean])\n",
        "\n",
        "plt.title(\"Student Marks\")\n",
        "plt.xlabel(\"Subjects\")\n",
        "plt.ylabel(\"Mean/Average\")\n",
        "\n",
        "plt.bar(x,y)\n",
        "\n",
        "plt.show()\n",
        "\n"
      ],
      "metadata": {
        "id": "LWoPFZBOyyNn",
        "colab": {
          "base_uri": "https://localhost:8080/",
          "height": 295
        },
        "outputId": "b54c2462-9e14-47c6-997e-ef10c4be08d6"
      },
      "execution_count": 25,
      "outputs": [
        {
          "output_type": "display_data",
          "data": {
            "text/plain": [
              "<Figure size 432x288 with 1 Axes>"
            ],
            "image/png": "[encoded data removed]"
          },
          "metadata": {
            "needs_background": "light"
          }
        }
      ]
    },
    {
      "cell_type": "markdown",
      "source": [
        "---\n",
        "## Question 4\n",
        "---"
      ],
      "metadata": {
        "id": "dWlOSOIs6d1R"
      }
    },
    {
      "cell_type": "markdown",
      "source": [
        "**Part A** - Import the file \"CatData.csv\" and preprocess it to remove any null values"
      ],
      "metadata": {
        "id": "b4s-pN4v6kgb"
      }
    },
    {
      "cell_type": "code",
      "source": [
        "import pandas as pd\n",
        "\n",
        "from google.colab import files\n",
        "\n",
        "upload = files.upload()\n",
        "\n",
        "CatData = pd.read_csv(\"CatData.csv\")\n",
        "\n",
        "CatData.dropna()\n",
        "\n",
        "CatData.info()\n",
        "\n",
        "CatData.reset_index()"
      ],
      "metadata": {
        "id": "mvZ3xrBV9b1s"
      },
      "execution_count": null,
      "outputs": []
    },
    {
      "cell_type": "markdown",
      "source": [
        "**Part B** - Identify the independant and dependant variables (comment answer below)"
      ],
      "metadata": {
        "id": "bWxuB3ep9SWA"
      }
    },
    {
      "cell_type": "code",
      "source": [
        "# dependant variable: tail (cm)\n",
        "# independant variable: mass (kg)"
      ],
      "metadata": {
        "id": "TS9tvuRt9cWr"
      },
      "execution_count": null,
      "outputs": []
    },
    {
      "cell_type": "markdown",
      "source": [
        "**Part C** - Create a linear regression model using sklearn and fit it to the data you just imported\n"
      ],
      "metadata": {
        "id": "xPHVA3cX7uk9"
      }
    },
    {
      "cell_type": "code",
      "source": [
        "import numpy as np\n",
        "import matplotlib.pyplot as plt\n",
        "from sklearn import linear_model\n",
        "\n",
        "num = int(len(CatData)* 0.8)\n",
        "\n",
        "train_data = CatData[:num]\n",
        "\n",
        "test_data = CatData[num:]\n",
        "\n",
        "print(\"Total Data = \", len(CatData))\n",
        "print(\"Training set = \", len(train_data))\n",
        "print(\"Testing set = \", len(test_data))\n",
        "\n",
        "regression = linear_model.LinearRegression()\n",
        "\n",
        "training_x = np.array(train_data[[\"Mass (kg)\"]])\n",
        "\n",
        "training_y = np.array(train_data[[\"Tail Length (cm)\"]])\n",
        "\n",
        "regression.fit(training_x,training_y)\n",
        "\n",
        "B = regression.coef_\n",
        "\n",
        "a = regression.intercept_\n",
        "\n",
        "\n",
        "\n"
      ],
      "metadata": {
        "id": "WYVNRotH9cyo",
        "colab": {
          "base_uri": "https://localhost:8080/"
        },
        "outputId": "3b338a75-af74-4100-e28e-ac939100b152"
      },
      "execution_count": null,
      "outputs": [
        {
          "output_type": "stream",
          "name": "stdout",
          "text": [
            "Total Data =  342\n",
            "Training set =  273\n",
            "Testing set =  69\n"
          ]
        }
      ]
    },
    {
      "cell_type": "markdown",
      "source": [
        "**Part D** - Print the values for slope and y-intercept"
      ],
      "metadata": {
        "id": "0QMipKhb830G"
      }
    },
    {
      "cell_type": "code",
      "source": [
        "print(\"Slope = \", B)\n",
        "print(\"Y-intercept\", a)"
      ],
      "metadata": {
        "id": "R7cvi3KB9dJh",
        "colab": {
          "base_uri": "https://localhost:8080/"
        },
        "outputId": "337534c8-cd42-496a-f4cd-8f23670da661"
      },
      "execution_count": null,
      "outputs": [
        {
          "output_type": "stream",
          "name": "stdout",
          "text": [
            "Slope =  [[1.59183664]]\n",
            "Y-intercept [13.34657289]\n"
          ]
        }
      ]
    },
    {
      "cell_type": "markdown",
      "source": [
        "**Part E** - Plot a scatter graph of the original data and a regression line on the same figure (example with dummy data shown below)\n",
        "\n",
        "![](https://drive.google.com/uc?export=view&id=1o_NAsNjfx7zAh9m-UjvWB3rta6uraKdY)"
      ],
      "metadata": {
        "id": "IIq-BQYp_i33"
      }
    },
    {
      "cell_type": "code",
      "source": [
        "plt.scatter(train_data[\"Mass (kg)\"],train_data[\"Tail Length (cm)\"],color = \"green\")\n",
        "\n",
        "plt.plot(training_x,B[0]*training_x + a,color = \"red\")\n",
        "\n",
        "plt.title(\"Cat Mass vs Cat Taillength\")\n",
        "plt.xlabel(\"Mass (in kg)\")\n",
        "plt.ylabel(\"Tail length (in cm)\")\n",
        "\n",
        "plt.show()"
      ],
      "metadata": {
        "id": "jhz8gTYt_lCn",
        "colab": {
          "base_uri": "https://localhost:8080/",
          "height": 295
        },
        "outputId": "744dd40a-14cb-4693-f949-afb4cc9a5e2a"
      },
      "execution_count": null,
      "outputs": [
        {
          "output_type": "display_data",
          "data": {
            "text/plain": [
              "<Figure size 432x288 with 1 Axes>"
            ],
            "image/png": "[encoded data removed]"
          },
          "metadata": {
            "needs_background": "light"
          }
        }
      ]
    }
  ]
}